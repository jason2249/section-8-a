{
 "cells": [
  {
   "cell_type": "markdown",
   "metadata": {},
   "source": [
    "# CS106AP Winter 2019 Section 8\n",
    "\n",
    "Alice, Bob, Charlie, and Diana all ate too much for dinner one night and agreed to go home and run for a bit to work off the excess calories. They all wear smartwatches that record their heart rates every second and used them while they exercised. Finally, they uploaded their heart rate data to the cloud to show each other that they in fact did work out. \n",
    "\n",
    "Unfortunately, two of the friends did not actually go running like they were supposed to, and to make matters worse, the cloud database experienced an error and mixed up all their data! We need your help to organize and clean up the data and ultimately find out who didn't do their exercise. \n",
    "\n",
    "### To run the code in a block, press shift->enter. \n",
    "### REMEMBER: This notebook is hosted on the cloud, not your computer, so any changes you make will not be saved! If you wish to save a copy of your work as a PDF, right click on the screen, press \"print\", then choose \"save as PDF\". "
   ]
  },
  {
   "cell_type": "markdown",
   "metadata": {},
   "source": [
    "## Problem 1\n",
    "\n",
    "The first step is to parse through the file `mixed_heart_rates.csv` and store the data. \n",
    "The format of the data file is `name,time,heart_rate`, where `time` is the elapsed time in seconds from the beginning of their workout. \n",
    "Create a dictionary that maps names to a list of tuples, with the first element of the tuple being the time and the second element being the heart rate at that time. Don't worry about ordering yet!"
   ]
  },
  {
   "cell_type": "code",
   "execution_count": 2,
   "metadata": {},
   "outputs": [],
   "source": [
    "# Parse through this file\n",
    "filename = \"jumbled_heart_rates.csv\"\n",
    "# Create a dictionary mapping names to tuples of (time,heart_rate)\n",
    "name_to_heart_rates = {}\n",
    "# YOUR CODE HERE\n",
    "\n",
    "\n"
   ]
  },
  {
   "cell_type": "markdown",
   "metadata": {},
   "source": [
    "## Problem 2\n",
    "\n",
    "Now that we have a dictionary containing the relevant data, it's time to organize it! Use a custom lambda sort to sort each list of tuples by the time elapsed. Don't create a new dictionary - just update the current dictionary keys with the new sorted lists, so `Alice` in `name_to_heart_rates` should now map to a list of tuples sorted by the time elapsed. Remember that it always helps to print out your result at the end of each step to make sure everything is running smoothly."
   ]
  },
  {
   "cell_type": "code",
   "execution_count": 4,
   "metadata": {},
   "outputs": [],
   "source": [
    "# Sort each list by time elapsed using a custom lambda sort\n",
    "# YOUR CODE HERE\n",
    "\n",
    "\n"
   ]
  },
  {
   "cell_type": "markdown",
   "metadata": {},
   "source": [
    "## Problem 3\n",
    "\n",
    "Great! Everything's looking in order. Now, use a list comprehension to create a new list for each of the four friends that consists of just the heart rates in sorted order. Modify the provided `alice_heart_rates`, `bob_heart_rates`, etc., to be your final lists. "
   ]
  },
  {
   "cell_type": "code",
   "execution_count": 6,
   "metadata": {},
   "outputs": [],
   "source": [
    "# Generate a list of heart rates only for each person using a list comprehension\n",
    "# YOUR CODE HERE\n",
    "alice_heart_rates = None\n",
    "bob_heart_rates = None\n",
    "charlie_heart_rates = None\n",
    "diana_heart_rates = None\n",
    "\n",
    "# Bonus: Create a list of lists of final heart rates using a nested list comprehension!\n",
    "final_heart_rates = None\n",
    "# What information do we lose with this method?\n",
    "\n",
    "\n"
   ]
  },
  {
   "cell_type": "markdown",
   "metadata": {},
   "source": [
    "## Putting it all together\n",
    "\n",
    "Finally, we can graph our resulting lists to expose the culprits once and for all! Just run the following code block - you don't need to change anything else.\n",
    "\n",
    "### Note: You may need to run this twice if you don't see anything the first time!"
   ]
  },
  {
   "cell_type": "code",
   "execution_count": null,
   "metadata": {},
   "outputs": [],
   "source": [
    "# Plot the graphs!\n",
    "import matplotlib.pyplot as plt\n",
    "\n",
    "plt.plot(alice_heart_rates, label='Alice')\n",
    "plt.plot(bob_heart_rates, label='Bob')\n",
    "plt.plot(charlie_heart_rates, label='Charlie')\n",
    "plt.plot(diana_heart_rates, label='Diana')\n",
    "plt.xlabel(\"Seconds Elapsed\")\n",
    "plt.ylabel(\"Heart Rate in Beats Per Minute\")\n",
    "plt.legend()\n",
    "plt.show()"
   ]
  },
  {
   "cell_type": "markdown",
   "metadata": {},
   "source": [
    "Who were the two friends who didn't exercise? \n",
    "\n",
    "Who did exercise?"
   ]
  },
  {
   "cell_type": "code",
   "execution_count": null,
   "metadata": {},
   "outputs": [],
   "source": []
  }
 ],
 "metadata": {
  "kernelspec": {
   "display_name": "Python 3",
   "language": "python",
   "name": "python3"
  },
  "language_info": {
   "codemirror_mode": {
    "name": "ipython",
    "version": 3
   },
   "file_extension": ".py",
   "mimetype": "text/x-python",
   "name": "python",
   "nbconvert_exporter": "python",
   "pygments_lexer": "ipython3",
   "version": "3.7.2"
  }
 },
 "nbformat": 4,
 "nbformat_minor": 2
}
