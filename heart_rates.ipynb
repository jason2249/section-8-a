{
 "cells": [
  {
   "cell_type": "markdown",
   "metadata": {},
   "source": [
    "# CS106AP Winter 2019 Section 8\n",
    "\n",
    "Alice, Bob, Charlie, and Diana all ate too much for dinner one night and agreed to go home and run for a bit to work off the excess calories. They all wear smartwatches that record their heart rates every second and used them while they exercised. Finally, they uploaded their heart rate data to the cloud to show each other that they in fact did work out. \n",
    "\n",
    "Unfortunately, two of the friends did not actually go running like they were supposed to, and to make matters worse, the cloud database experienced an error and mixed up all their data! We need your help to organize and clean up the data and ultimately find out who didn't do their exercise. \n",
    "\n",
    "#### To run the code in a block, press shift->enter. \n",
    "#### REMEMBER: This notebook is hosted on the cloud, not your computer, so any changes you make will not be saved! If you wish to save a copy of your work as a PDF, right click on the screen, press \"print\", then choose \"save as PDF\". "
   ]
  },
  {
   "cell_type": "markdown",
   "metadata": {},
   "source": [
    "## Problem 1\n",
    "\n",
    "The first step is to parse through the file `mixed_heart_rates.csv` and store the data. \n",
    "The format of the data file is `name,time,heart_rate`, where `time` is the elapsed time in seconds from the beginning of their workout. \n",
    "Create a dictionary that maps names to a list of tuples, with the first element of the tuple being the time and the second element being the heart rate at that time. Don't worry about ordering yet!"
   ]
  },
  {
   "cell_type": "code",
   "execution_count": null,
   "metadata": {},
   "outputs": [],
   "source": [
    "# Parse through this file\n",
    "filename = \"jumbled_heart_rates.csv\"\n",
    "# Create a dictionary mapping names to tuples of (time,heart_rate)\n",
    "name_to_heart_rates = {}\n",
    "# YOUR CODE HERE\n",
    "\n",
    "\n"
   ]
  },
  {
   "cell_type": "markdown",
   "metadata": {},
   "source": [
    "## Problem 2\n",
    "\n",
    "Now that we have a dictionary containing the relevant data, it's time to organize it! Sort each list of tuples by the time elapsed. Don't create a new dictionary - just update the current dictionary keys with the new sorted lists, so `Alice` in `name_to_heart_rates` should now map to a list of tuples sorted by the time elapsed. Remember that it always helps to print out your result at the end of each step to make sure everything is running smoothly.\n",
    "\n",
    "Do you need to use a custom lambda sort to sort the tuples by time? Why or why not?\n",
    "\n",
    "After sorting, find the maximum heart rate for each person using a call to max with a lambda function. This should already give us a hint as to who did their exercise!"
   ]
  },
  {
   "cell_type": "code",
   "execution_count": null,
   "metadata": {},
   "outputs": [],
   "source": [
    "# Sort each list of tuples by time elapsed\n",
    "# YOUR CODE HERE\n",
    "\n",
    "\n",
    "\n",
    "# Find and print out the maximum heart rate for each person using a call to max() with a provided lambda\n",
    "# YOUR CODE HERE\n",
    "\n",
    "\n"
   ]
  },
  {
   "cell_type": "markdown",
   "metadata": {},
   "source": [
    "## Problem 3\n",
    "\n",
    "Great! Everything's looking in order. Now, use a list comprehension to create a new list for each of the four friends that consists of just the heart rates in sorted order. Modify the provided `alice_heart_rates`, `bob_heart_rates`, etc., to be your final lists. "
   ]
  },
  {
   "cell_type": "code",
   "execution_count": null,
   "metadata": {},
   "outputs": [],
   "source": [
    "# Generate a list of heart rates only for each person using a list comprehension\n",
    "# YOUR CODE HERE\n",
    "alice_heart_rates = None\n",
    "bob_heart_rates = None\n",
    "charlie_heart_rates = None\n",
    "diana_heart_rates = None\n",
    "\n",
    "# Bonus: Create a list of lists of final heart rates using a nested list comprehension!\n",
    "final_heart_rates = None\n",
    "# What information do we lose with this method?\n",
    "\n",
    "\n"
   ]
  },
  {
   "cell_type": "markdown",
   "metadata": {},
   "source": [
    "## Problem 4\n",
    "\n",
    "Finally, we can graph our resulting lists to expose the culprits once and for all! We'll be using a submodule called pyplot, located inside the matplotlib module. \n",
    "\n",
    "Some helpful functions include the following: \n",
    " * **pyplot.figure(figsize=(width,height))**\n",
    "     * This function lets you specify the width and height of the graph. You should specify your desired width and height inside with a tuple passed in to the figsize argument, as shown above. A good width and height to start out with would be 10 and 8!\n",
    " * **pyplot.plot(values, label=name, color=desired_color)**\n",
    "     * This function actually places `values` in a list on the plot. You can specify a label for each line (should be the name of the person) as well as a desired color (\"red\", \"green\", \"blue\", etc).\n",
    " * **pyplot.xlabel(xlabel) and pyplot.ylabel(ylabel)**\n",
    "     * Sets the x and y labels of the graph to the desired parameter.\n",
    " * **pyplot.title(title)**\n",
    "     * Titles the graph with a title of your choosing.\n",
    " * **pyplot.legend()**\n",
    "     * Shows the legend based on the labels specified in plot().\n",
    " * **pyplot.show()**\n",
    "     * Actually displays the graph. Won't show up otherwise - everything else is just setting things, and this is the command that shows it!\n",
    "  \n",
    "Play around with different parameters and make a great looking graph! If you'd like to see a list of *all* functions in the module, you can find them [here](https://matplotlib.org/api/_as_gen/matplotlib.pyplot.html).\n",
    "\n",
    "### Note: You may need to run this twice if you don't see anything the first time!"
   ]
  },
  {
   "cell_type": "code",
   "execution_count": null,
   "metadata": {},
   "outputs": [],
   "source": [
    "# Plot the graphs!\n",
    "import matplotlib.pyplot as plt\n",
    "\n",
    "\n"
   ]
  },
  {
   "cell_type": "markdown",
   "metadata": {},
   "source": [
    "Who were the two friends who didn't exercise? \n",
    "\n",
    "Who did exercise?"
   ]
  },
  {
   "cell_type": "code",
   "execution_count": null,
   "metadata": {},
   "outputs": [],
   "source": []
  }
 ],
 "metadata": {
  "kernelspec": {
   "display_name": "Python 3",
   "language": "python",
   "name": "python3"
  },
  "language_info": {
   "codemirror_mode": {
    "name": "ipython",
    "version": 3
   },
   "file_extension": ".py",
   "mimetype": "text/x-python",
   "name": "python",
   "nbconvert_exporter": "python",
   "pygments_lexer": "ipython3",
   "version": "3.7.2"
  }
 },
 "nbformat": 4,
 "nbformat_minor": 2
}
